{
 "cells": [
  {
   "cell_type": "code",
   "execution_count": 59,
   "metadata": {},
   "outputs": [],
   "source": [
    "import os\n",
    "import glob\n",
    "import json\n",
    "import numpy as np\n",
    "import matplotlib.pyplot as plt\n",
    "\n",
    "import scipy.sparse as sps\n",
    "import scipy.linalg as sl\n",
    "from sksparse.cholmod import cholesky\n",
    "\n",
    "import enterprise\n",
    "from enterprise.pulsar import Pulsar\n",
    "import enterprise.signals.parameter as parameter\n",
    "import enterprise.constants as const\n",
    "from enterprise.signals import signal_base\n",
    "from enterprise.signals import selections\n",
    "from enterprise.signals.selections import Selection\n",
    "from enterprise.signals import white_signals\n",
    "from enterprise.signals import utils\n",
    "from enterprise.signals import gp_signals"
   ]
  },
  {
   "cell_type": "code",
   "execution_count": 60,
   "metadata": {},
   "outputs": [],
   "source": [
    "# Set the data and noise locations\n",
    "datadir = '/home/marvin/NANOGrav/perm-data/9yr/'\n",
    "noisedir = '/home/marvin/NANOGrav/perm-data/noise/'"
   ]
  },
  {
   "cell_type": "code",
   "execution_count": 62,
   "metadata": {},
   "outputs": [
    {
     "name": "stdout",
     "output_type": "stream",
     "text": [
      "['/home/marvin/NANOGrav/perm-data/9yr/par/B1855+09_NANOGrav_9yv1.gls.par', '/home/marvin/NANOGrav/perm-data/9yr/par/B1937+21_NANOGrav_9yv1.gls.par', '/home/marvin/NANOGrav/perm-data/9yr/par/B1953+29_NANOGrav_9yv1.gls.par', '/home/marvin/NANOGrav/perm-data/9yr/par/J0023+0923_NANOGrav_9yv1.gls.par', '/home/marvin/NANOGrav/perm-data/9yr/par/J0030+0451_NANOGrav_9yv1.gls.par', '/home/marvin/NANOGrav/perm-data/9yr/par/J0340+4130_NANOGrav_9yv1.gls.par', '/home/marvin/NANOGrav/perm-data/9yr/par/J0613-0200_NANOGrav_9yv1.gls.par', '/home/marvin/NANOGrav/perm-data/9yr/par/J0645+5158_NANOGrav_9yv1.gls.par', '/home/marvin/NANOGrav/perm-data/9yr/par/J0931-1902_NANOGrav_9yv1.gls.par', '/home/marvin/NANOGrav/perm-data/9yr/par/J1012+5307_NANOGrav_9yv1.gls.par', '/home/marvin/NANOGrav/perm-data/9yr/par/J1024-0719_NANOGrav_9yv1.gls.par', '/home/marvin/NANOGrav/perm-data/9yr/par/J1455-3330_NANOGrav_9yv1.gls.par', '/home/marvin/NANOGrav/perm-data/9yr/par/J1600-3053_NANOGrav_9yv1.gls.par', '/home/marvin/NANOGrav/perm-data/9yr/par/J1614-2230_NANOGrav_9yv1.gls.par', '/home/marvin/NANOGrav/perm-data/9yr/par/J1640+2224_NANOGrav_9yv1.gls.par', '/home/marvin/NANOGrav/perm-data/9yr/par/J1643-1224_NANOGrav_9yv1.gls.par', '/home/marvin/NANOGrav/perm-data/9yr/par/J1713+0747_NANOGrav_9yv1.gls.par', '/home/marvin/NANOGrav/perm-data/9yr/par/J1713+0747_NANOGrav_9yv1.t2.gls.par', '/home/marvin/NANOGrav/perm-data/9yr/par/J1738+0333_NANOGrav_9yv1.gls.par', '/home/marvin/NANOGrav/perm-data/9yr/par/J1741+1351_NANOGrav_9yv1.gls.par', '/home/marvin/NANOGrav/perm-data/9yr/par/J1744-1134_NANOGrav_9yv1.gls.par', '/home/marvin/NANOGrav/perm-data/9yr/par/J1747-4036_NANOGrav_9yv1.gls.par', '/home/marvin/NANOGrav/perm-data/9yr/par/J1832-0836_NANOGrav_9yv1.gls.par', '/home/marvin/NANOGrav/perm-data/9yr/par/J1853+1303_NANOGrav_9yv1.gls.par', '/home/marvin/NANOGrav/perm-data/9yr/par/J1903+0327_NANOGrav_9yv1.gls.par', '/home/marvin/NANOGrav/perm-data/9yr/par/J1909-3744_NANOGrav_9yv1.gls.par', '/home/marvin/NANOGrav/perm-data/9yr/par/J1910+1256_NANOGrav_9yv1.gls.par', '/home/marvin/NANOGrav/perm-data/9yr/par/J1918-0642_NANOGrav_9yv1.gls.par', '/home/marvin/NANOGrav/perm-data/9yr/par/J1923+2515_NANOGrav_9yv1.gls.par', '/home/marvin/NANOGrav/perm-data/9yr/par/J1944+0907_NANOGrav_9yv1.gls.par', '/home/marvin/NANOGrav/perm-data/9yr/par/J1949+3106_NANOGrav_9yv1.gls.par', '/home/marvin/NANOGrav/perm-data/9yr/par/J2010-1323_NANOGrav_9yv1.gls.par', '/home/marvin/NANOGrav/perm-data/9yr/par/J2017+0603_NANOGrav_9yv1.gls.par', '/home/marvin/NANOGrav/perm-data/9yr/par/J2043+1711_NANOGrav_9yv1.gls.par', '/home/marvin/NANOGrav/perm-data/9yr/par/J2145-0750_NANOGrav_9yv1.gls.par', '/home/marvin/NANOGrav/perm-data/9yr/par/J2214+3000_NANOGrav_9yv1.gls.par', '/home/marvin/NANOGrav/perm-data/9yr/par/J2302+4442_NANOGrav_9yv1.gls.par', '/home/marvin/NANOGrav/perm-data/9yr/par/J2317+1439_NANOGrav_9yv1.gls.par']\n"
     ]
    }
   ],
   "source": [
    "parfiles = sorted(glob.glob(datadir+'par/'+'*.par'))\n",
    "timfiles = sorted(glob.glob(datadir+'tim/'+'*.tim'))\n",
    "print(parfiles)"
   ]
  },
  {
   "cell_type": "code",
   "execution_count": 128,
   "metadata": {},
   "outputs": [
    {
     "name": "stderr",
     "output_type": "stream",
     "text": [
      "WARNING: enterprise.pulsar: WARNING: Could not find pulsar distance for PSR J0023+0923. Setting value to 1 with 20% uncertainty.\n"
     ]
    }
   ],
   "source": [
    "psr = Pulsar(parfiles[3], timfiles[3], ephem='DE436')"
   ]
  },
  {
   "cell_type": "code",
   "execution_count": 129,
   "metadata": {},
   "outputs": [],
   "source": [
    "# For now, let's just add EFAC\n",
    "efac = parameter.Constant()\n",
    "equad = parameter.Constant()\n",
    "\n",
    "selection = selections.Selection(selections.by_backend)\n",
    "\n",
    "ef = white_signals.MeasurementNoise(efac=efac, selection=selection)\n",
    "eq = white_signals.EquadNoise(log10_equad=equad, selection=selection)"
   ]
  },
  {
   "cell_type": "code",
   "execution_count": 130,
   "metadata": {},
   "outputs": [],
   "source": [
    "# Now we'll try to add red noise\n",
    "log10_A = parameter.Constant()\n",
    "gamma = parameter.Constant()\n",
    "\n",
    "# define powerlaw PSD and red noise signal\n",
    "pl = utils.powerlaw(log10_A=log10_A, gamma=gamma)\n",
    "rn = gp_signals.FourierBasisGP(pl, components=30, name='rn')"
   ]
  },
  {
   "cell_type": "code",
   "execution_count": 131,
   "metadata": {},
   "outputs": [],
   "source": [
    "# Set the full signal, which is just the EFAC here\n",
    "s = ef + eq + rn"
   ]
  },
  {
   "cell_type": "code",
   "execution_count": 132,
   "metadata": {},
   "outputs": [],
   "source": [
    "# Need to hardcode the 'B' names for some reason\n",
    "# initialize PTA\n",
    "model = [s(psr)]\n",
    "pta = signal_base.PTA(model)"
   ]
  },
  {
   "cell_type": "code",
   "execution_count": 133,
   "metadata": {},
   "outputs": [
    {
     "name": "stderr",
     "output_type": "stream",
     "text": [
      "INFO: enterprise.signals.signal_base: Setting J0023+0923_430_ASP_efac to 1.046\n",
      "INFO: enterprise.signals.signal_base: Setting J0023+0923_430_PUPPI_efac to 1.04089\n",
      "INFO: enterprise.signals.signal_base: Setting J0023+0923_L-wide_ASP_efac to 1.15689\n",
      "INFO: enterprise.signals.signal_base: Setting J0023+0923_L-wide_PUPPI_efac to 1.16122\n",
      "INFO: enterprise.signals.signal_base: Setting J0023+0923_430_ASP_log10_equad to -9.96299\n",
      "INFO: enterprise.signals.signal_base: Setting J0023+0923_430_PUPPI_log10_equad to -6.91689\n",
      "INFO: enterprise.signals.signal_base: Setting J0023+0923_L-wide_ASP_log10_equad to -5.90181\n",
      "INFO: enterprise.signals.signal_base: Setting J0023+0923_L-wide_PUPPI_log10_equad to -6.71605\n",
      "INFO: enterprise.signals.signal_base: Setting J0023+0923_rn_log10_A to -13.1929\n",
      "INFO: enterprise.signals.signal_base: Setting J0023+0923_rn_gamma to 0.0896611\n"
     ]
    }
   ],
   "source": [
    "noisefile = noisedir + 'noisedict.json'\n",
    "setpars = {}\n",
    "with open(noisefile, 'r') as fin:\n",
    "    setpars.update(json.load(fin))\n",
    "\n",
    "# fix the white noise parameters to the values in the noisefiles\n",
    "pta.set_default_params(setpars)"
   ]
  },
  {
   "cell_type": "code",
   "execution_count": 134,
   "metadata": {},
   "outputs": [],
   "source": [
    "def get_params(noisefile, psr):\n",
    "    pars = {}\n",
    "    with open(noisefile, 'r') as f:\n",
    "        pars.update(json.load(f))\n",
    "    \n",
    "    params = {k:v for (k,v) in pars.items() if k.startswith(psr.name) and not k.endswith('ecorr')}\n",
    "    return params"
   ]
  },
  {
   "cell_type": "code",
   "execution_count": 135,
   "metadata": {},
   "outputs": [],
   "source": [
    "def construct_N(sc, psr):\n",
    "    # Function to construct white noise matrix `N`\n",
    "    # For now it only accomadates single pulsar PTAs\n",
    "    \n",
    "    # W matrix is a diagonal matrix of TOA uncertainties squared\n",
    "    W = np.diag(psr.toaerrs) ** 2\n",
    "\n",
    "    # Separate out different types of white noise\n",
    "    ef_noise = sc._signals[0]\n",
    "    eq_noise = sc._signals[1]\n",
    "\n",
    "    # Let's divide up into our different observing systems (our k's)\n",
    "    # First we need to generate a 'mask' dictionary, aka matching receivers\n",
    "    # to the TOAs they measured\n",
    "    sel = selection(psr)\n",
    "    masks = sel.masks\n",
    "\n",
    "    ef_vals = [l.value**2 for l in list(ef_noise._params.values())]\n",
    "    ef_dict = dict(zip(ef_noise._keys, ef_vals))\n",
    "\n",
    "    eq_vals = [10**(2*l.value) for l in list(eq_noise._params.values())]\n",
    "    eq_dict = dict(zip(eq_noise._keys, eq_vals))\n",
    "\n",
    "    # Now we construct the N_k dictionary, one N matrix per backend+receiver combo\n",
    "    # Then sum them together to get the final N\n",
    "    N_k = {}\n",
    "    for key, mask in masks.items():\n",
    "        N_k[key] = (ef_dict[key] * W + eq_dict[key]*np.identity(len(psr.toas))) * mask\n",
    "\n",
    "    N = sum(N_k.values())\n",
    "    \n",
    "    return N"
   ]
  },
  {
   "cell_type": "code",
   "execution_count": 136,
   "metadata": {},
   "outputs": [],
   "source": [
    "def construct_T(psr):\n",
    "    Ti = psr.toas.max() - psr.toas.min()\n",
    "    fmin = 1/Ti\n",
    "    fmax = 30/Ti\n",
    "    f = np.linspace(fmin, fmax, 30)\n",
    "    ranphase = np.zeros(30)\n",
    "    \n",
    "    Ffreqs = np.repeat(f, 2)\n",
    "    N = len(psr.toas)\n",
    "    F = np.zeros((N, 2*30))\n",
    "    \n",
    "    F[:, ::2] = np.sin(2 * np.pi * psr.toas[:, None] * f[None, :] + ranphase[None, :])\n",
    "    F[:, 1::2] = np.cos(2 * np.pi * psr.toas[:, None] * f[None, :] + ranphase[None, :])\n",
    "    \n",
    "    basis = F, Ffreqs\n",
    "    return basis"
   ]
  },
  {
   "cell_type": "code",
   "execution_count": 137,
   "metadata": {},
   "outputs": [],
   "source": [
    "def powerlaw(f, log10_A=-16, gamma=5, components=2):\n",
    "    df = np.diff(np.concatenate((np.array([0]), f[::components])))\n",
    "    return (\n",
    "        (10 ** log10_A) ** 2 / 12.0 / np.pi ** 2 * const.fyr ** (gamma - 3) * f ** (-gamma) * np.repeat(df, components)\n",
    "    )\n",
    "\n",
    "def construct_phi(sc, psr, params):\n",
    "    \n",
    "    T, Ffreqs = construct_T(psr)\n",
    "    phi = KernelMatrix(sc._Fmat.shape[1])\n",
    "    \n",
    "    rnsig = sc._signals[2]\n",
    "    basis, labels = {}, {}\n",
    "    for key, mask in zip(rnsig._keys, rnsig._masks):\n",
    "        basis[key], labels[key] = rnsig._bases[key](params=params, mask=mask)\n",
    "\n",
    "    nc = sum(F.shape[1] for F in basis.values())\n",
    "    rnbasis = np.zeros((len(rnsig._masks[0]), nc))\n",
    "    rnslices = {}\n",
    "    nctot = 0\n",
    "    \n",
    "    for key, mask in zip(rnsig._keys, rnsig._masks):\n",
    "        Fmat = basis[key]\n",
    "        nn = Fmat.shape[1]\n",
    "        rnbasis[mask, nctot : nn + nctot] = Fmat\n",
    "        rnslices.update({key: slice(nctot, nn+nctot)})\n",
    "        nctot += nn\n",
    "    \n",
    "    log10A = params[psr.name+'_rn_log10_A']\n",
    "    gam = params[psr.name+'_rn_gamma']\n",
    "    \n",
    "    for key, slc in rnslices.items():\n",
    "        phislc = powerlaw(Ffreqs, log10_A=log10A, gamma=gam)\n",
    "        phi = phi.set(phislc, slc)\n",
    "    \n",
    "    return phi"
   ]
  },
  {
   "cell_type": "code",
   "execution_count": 138,
   "metadata": {},
   "outputs": [],
   "source": [
    "def get_TNr(T, Nvec, r):\n",
    "    mult = np.array(r/Nvec)\n",
    "    TNr = np.dot(T.T, mult)\n",
    "    return TNr\n",
    "\n",
    "def get_TNT(T, Nvec):\n",
    "    TNT = np.dot(T.T, np.array(T/Nvec[:, None]))\n",
    "    return TNT\n",
    "\n",
    "def get_rT_Ninv_r(r, N):\n",
    "    rT = np.transpose(r)\n",
    "    Ninv = np.linalg.inv(N)\n",
    "    \n",
    "    rT_Ninv_r = np.dot(rT, np.dot(Ninv, r))\n",
    "    return rT_Ninv_r\n",
    "\n",
    "def get_phiinv(phi):\n",
    "    phiinv = 1.0 / phi\n",
    "    logdet_phi = np.sum(np.log(phi))\n",
    "    \n",
    "    return phiinv, logdet_phi"
   ]
  },
  {
   "cell_type": "code",
   "execution_count": 139,
   "metadata": {},
   "outputs": [],
   "source": [
    "def custom_likelihood(pta, psr, params):\n",
    "    # Currently this function only works for a single pulsar\n",
    "    # it will be updated in the future to adapt to multiple-pulsar PTAs\n",
    "    ln_likelihood = 0\n",
    "    \n",
    "    sc = pta.pulsarmodels[0]\n",
    "    \n",
    "    r = psr.residuals\n",
    "    \n",
    "    N = construct_N(sc, psr)\n",
    "    Nvec = np.diag(N)\n",
    "    logdet_N = np.sum(np.log(Nvec))\n",
    "    \n",
    "    T, Ffreqs = construct_T(psr)\n",
    "    \n",
    "    phi = construct_phi(sc, psr, params)\n",
    "    phiinv, logdet_phi = get_phiinv(phi)\n",
    "\n",
    "    TNr = get_TNr(T, Nvec, r)\n",
    "    TNT = get_TNT(T, Nvec)\n",
    "    rT_Ninv_r = get_rT_Ninv_r(r, N)\n",
    "    \n",
    "    Sigma = TNT + (np.diag(phiinv) if phiinv.ndim == 1 else phiinv)\n",
    "    cf = sl.cho_factor(Sigma)\n",
    "    expval = sl.cho_solve(cf, TNr)\n",
    "    logdet_sigma = np.sum(2 * np.log(np.diag(cf[0])))\n",
    "    \n",
    "    ln_likelihood += -0.5 * (rT_Ninv_r + logdet_N)\n",
    "    ln_likelihood += 0.5 * (np.dot(TNr, expval) - logdet_sigma - logdet_phi)\n",
    "    return ln_likelihood"
   ]
  },
  {
   "cell_type": "code",
   "execution_count": 140,
   "metadata": {},
   "outputs": [
    {
     "name": "stdout",
     "output_type": "stream",
     "text": [
      "52577.37883497028\n",
      "52577.37883497028\n"
     ]
    }
   ],
   "source": [
    "params = get_params(noisefile, psr)\n",
    "loglike = custom_likelihood(pta, psr, params)\n",
    "print(pta.get_lnlikelihood(params))\n",
    "print(loglike)"
   ]
  }
 ],
 "metadata": {
  "kernelspec": {
   "display_name": "Python 3",
   "language": "python",
   "name": "python3"
  },
  "language_info": {
   "codemirror_mode": {
    "name": "ipython",
    "version": 3
   },
   "file_extension": ".py",
   "mimetype": "text/x-python",
   "name": "python",
   "nbconvert_exporter": "python",
   "pygments_lexer": "ipython3",
   "version": "3.7.7"
  }
 },
 "nbformat": 4,
 "nbformat_minor": 4
}
